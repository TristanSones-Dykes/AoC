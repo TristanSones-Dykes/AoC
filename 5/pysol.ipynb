{
 "cells": [
  {
   "cell_type": "code",
   "execution_count": 6,
   "metadata": {},
   "outputs": [
    {
     "name": "stdout",
     "output_type": "stream",
     "text": [
      "JCMHLVGMG\n"
     ]
    }
   ],
   "source": [
    "from typing import List\n",
    "\n",
    "with open(\"input.txt\", \"r\") as f:\n",
    "    lines = f.readlines()   \n",
    "\n",
    "    init = \"\"\n",
    "    instructions = []\n",
    "\n",
    "    for i in range(len(lines)):\n",
    "        if lines[i] == \"\\n\":\n",
    "            init = [line[:-1] for line in lines[:i]]\n",
    "            instructions = [line.strip() for line in lines[i+1:]]\n",
    "            break\n",
    "\n",
    "height = len(init) - 1\n",
    "width = len(init[-1].strip().split(\"   \"))\n",
    "\n",
    "class tower:\n",
    "    int: height\n",
    "    def __init__(self, values: List[str]):\n",
    "        self.height = len(values)\n",
    "        self.values = values\n",
    "\n",
    "    def add(self, value: str):\n",
    "        self.values.append(value)\n",
    "        self.height += 1\n",
    "\n",
    "    def add(self, values: List[str]):\n",
    "        self.values.extend(values)\n",
    "        self.height += len(values)\n",
    "\n",
    "    def remove(self) -> str:\n",
    "        self.height -= 1\n",
    "        return self.values.pop()\n",
    "    \n",
    "    def remove_n(self, n: int) -> List[str]:\n",
    "        self.height -= n\n",
    "        return [self.values.pop() for i in range(n)][::-1]\n",
    "\n",
    "towers = [tower([]) for i in range(width)]\n",
    "\n",
    "for i in range(len(init) - 2, -1, -1):\n",
    "    values = [value for (index, value) in enumerate(init[i]) if index % 4 == 1]\n",
    "    for (index, value) in enumerate(values):\n",
    "        if value != \" \":\n",
    "            towers[index].add(value)\n",
    "\n",
    "def move(towers, instruction):\n",
    "    information = instruction.split(\" \")\n",
    "\n",
    "    amount = int(information[1])\n",
    "    from_tower = towers[int(information[3]) - 1]\n",
    "    to_tower = towers[int(information[-1]) - 1]\n",
    "\n",
    "    for i in range(amount):\n",
    "        to_tower.add(from_tower.remove())\n",
    "\n",
    "for instruction in instructions:\n",
    "    move(towers, instruction)\n",
    "\n",
    "print(\"\".join([tower.remove() for tower in towers]))"
   ]
  },
  {
   "cell_type": "code",
   "execution_count": 7,
   "metadata": {},
   "outputs": [
    {
     "name": "stdout",
     "output_type": "stream",
     "text": [
      "LVMRWSSPZ\n"
     ]
    }
   ],
   "source": [
    "with open(\"input.txt\", \"r\") as f:\n",
    "    lines = f.readlines()\n",
    "\n",
    "    init = \"\"\n",
    "    instructions = []\n",
    "\n",
    "    for i in range(len(lines)):\n",
    "        if lines[i] == \"\\n\":\n",
    "            init = [line[:-1] for line in lines[:i]]\n",
    "            instructions = [line.strip() for line in lines[i+1:]]\n",
    "            break\n",
    "\n",
    "height = len(init) - 1\n",
    "width = len(init[-1].strip().split(\"   \"))\n",
    "\n",
    "towers = [tower([]) for i in range(width)]\n",
    "\n",
    "for i in range(len(init) - 2, -1, -1):\n",
    "    values = [value for (index, value) in enumerate(init[i]) if index % 4 == 1]\n",
    "    for (index, value) in enumerate(values):\n",
    "        if value != \" \":\n",
    "            towers[index].add(value)\n",
    "\n",
    "def moveN(towers, instruction):\n",
    "    information = instruction.split(\" \")\n",
    "\n",
    "    amount = int(information[1])\n",
    "    from_tower = towers[int(information[3]) - 1]\n",
    "    to_tower = towers[int(information[-1]) - 1]\n",
    "\n",
    "    to_tower.add(from_tower.remove_n(amount))\n",
    "\n",
    "for instruction in instructions:\n",
    "    moveN(towers, instruction)\n",
    "\n",
    "print(\"\".join([tower.remove() for tower in towers]))\n"
   ]
  }
 ],
 "metadata": {
  "kernelspec": {
   "display_name": "Python 3.11.0 64-bit",
   "language": "python",
   "name": "python3"
  },
  "language_info": {
   "codemirror_mode": {
    "name": "ipython",
    "version": 3
   },
   "file_extension": ".py",
   "mimetype": "text/x-python",
   "name": "python",
   "nbconvert_exporter": "python",
   "pygments_lexer": "ipython3",
   "version": "3.11.0"
  },
  "orig_nbformat": 4,
  "vscode": {
   "interpreter": {
    "hash": "5c7b89af1651d0b8571dde13640ecdccf7d5a6204171d6ab33e7c296e100e08a"
   }
  }
 },
 "nbformat": 4,
 "nbformat_minor": 2
}
