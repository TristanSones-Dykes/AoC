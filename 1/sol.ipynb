{
 "cells": [
  {
   "cell_type": "code",
   "execution_count": 60,
   "metadata": {},
   "outputs": [
    {
     "data": {
      "text/plain": [
       "69912"
      ]
     },
     "metadata": {},
     "output_type": "display_data"
    }
   ],
   "source": [
    "lines = readlines(open(\"input.txt\", \"r\"))\n",
    "\n",
    "groups = []\n",
    "index = 1\n",
    "while index < length(lines)\n",
    "    group = []\n",
    "    while index < length(lines) && lines[index] != \"\"\n",
    "        push!(group, lines[index])\n",
    "        index += 1\n",
    "    end\n",
    "    push!(groups, group)\n",
    "    index += 1\n",
    "end\n",
    "\n",
    "groups = [parse.(Int, group) for group in groups]\n",
    "maximum([sum(group) for group in groups])"
   ]
  },
  {
   "cell_type": "code",
   "execution_count": 56,
   "metadata": {},
   "outputs": [
    {
     "name": "stdout",
     "output_type": "stream",
     "text": [
      "208180\n"
     ]
    }
   ],
   "source": [
    "sums = [sum(group) for group in groups]\n",
    "top_3 = sort(sums, rev=true)[1:3]\n",
    "println(sum(top_3))"
   ]
  }
 ],
 "metadata": {
  "kernelspec": {
   "display_name": "Julia 1.8.3",
   "language": "julia",
   "name": "julia-1.8"
  },
  "language_info": {
   "file_extension": ".jl",
   "mimetype": "application/julia",
   "name": "julia",
   "version": "1.8.3"
  },
  "orig_nbformat": 4,
  "vscode": {
   "interpreter": {
    "hash": "5c7b89af1651d0b8571dde13640ecdccf7d5a6204171d6ab33e7c296e100e08a"
   }
  }
 },
 "nbformat": 4,
 "nbformat_minor": 2
}
