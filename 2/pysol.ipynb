{
 "cells": [
  {
   "cell_type": "code",
   "execution_count": 16,
   "metadata": {},
   "outputs": [
    {
     "data": {
      "text/plain": [
       "13052"
      ]
     },
     "execution_count": 16,
     "metadata": {},
     "output_type": "execute_result"
    }
   ],
   "source": [
    "with open(\"input.txt\") as f:\n",
    "    data = [tuple(x.split(\" \")) for x in f.read().splitlines()]\n",
    "\n",
    "scoreDict = {\n",
    "    \"X\" : 1,\n",
    "    \"Y\" : 2,\n",
    "    \"Z\" : 3\n",
    "}\n",
    "\n",
    "convertDict = {\n",
    "    \"A\" : \"X\",\n",
    "    \"B\" : \"Y\",\n",
    "    \"C\" : \"Z\"\n",
    "}\n",
    "\n",
    "def getScore(data) -> int:\n",
    "    score = scoreDict[data[1]]\n",
    "    match data:\n",
    "        case (\"A\", \"Y\"):\n",
    "            score += 6\n",
    "        case (\"B\", \"Z\"):\n",
    "            score += 6\n",
    "        case (\"C\", \"X\"):\n",
    "            score += 6\n",
    "        # case where both elements are the same\n",
    "        case (x, y) if convertDict[x] == y:\n",
    "            score += 3\n",
    "        # default case\n",
    "        case _:\n",
    "            score += 0\n",
    "    return score\n",
    "\n",
    "totalScore = sum(map(getScore, data))\n",
    "totalScore"
   ]
  },
  {
   "cell_type": "code",
   "execution_count": 43,
   "metadata": {},
   "outputs": [
    {
     "data": {
      "text/plain": [
       "13693"
      ]
     },
     "execution_count": 43,
     "metadata": {},
     "output_type": "execute_result"
    }
   ],
   "source": [
    "def getScore(data) -> int:\n",
    "    #accounting for outcome\n",
    "    score = (scoreDict[data[1]] - 1) * 3\n",
    "\n",
    "    #accounting for your choice\n",
    "    match data:\n",
    "        #draw, so take equivalent letter\n",
    "        case (x, \"Y\"):\n",
    "            score += scoreDict[convertDict[x]]\n",
    "        #win, so take letter that beats opponent\n",
    "        case (x, \"Z\"):\n",
    "            score += (scoreDict[convertDict[x]]) % 3 + 1\n",
    "        #lose, so take letter that loses to opponent\n",
    "        case (x, \"X\"):\n",
    "            score += (scoreDict[convertDict[x]] - 2) % 3 + 1\n",
    "\n",
    "    return score\n",
    "\n",
    "totalScore = sum(map(getScore, data))\n",
    "totalScore"
   ]
  }
 ],
 "metadata": {
  "kernelspec": {
   "display_name": "Python 3.11.0 64-bit",
   "language": "python",
   "name": "python3"
  },
  "language_info": {
   "codemirror_mode": {
    "name": "ipython",
    "version": 3
   },
   "file_extension": ".py",
   "mimetype": "text/x-python",
   "name": "python",
   "nbconvert_exporter": "python",
   "pygments_lexer": "ipython3",
   "version": "3.11.0"
  },
  "orig_nbformat": 4,
  "vscode": {
   "interpreter": {
    "hash": "5c7b89af1651d0b8571dde13640ecdccf7d5a6204171d6ab33e7c296e100e08a"
   }
  }
 },
 "nbformat": 4,
 "nbformat_minor": 2
}
