{
 "cells": [
  {
   "cell_type": "code",
   "execution_count": 1,
   "metadata": {},
   "outputs": [
    {
     "data": {
      "text/plain": [
       "359"
      ]
     },
     "execution_count": 1,
     "metadata": {},
     "output_type": "execute_result"
    }
   ],
   "source": [
    "with open(\"input.txt\", \"r\") as f:\n",
    "    data = [[y.split(\"-\") for y in x.split(\",\")] for x in f.read().splitlines()]\n",
    "\n",
    "total = 0\n",
    "for pair in data:\n",
    "    match pair:\n",
    "        case [[x, y], [z, w]] if x <= z and y >= w or z <= x and w >= y:\n",
    "            total += 1\n",
    "\n",
    "total\n",
    "\n"
   ]
  },
  {
   "cell_type": "code",
   "execution_count": 2,
   "metadata": {},
   "outputs": [
    {
     "data": {
      "text/plain": [
       "305"
      ]
     },
     "execution_count": 2,
     "metadata": {},
     "output_type": "execute_result"
    }
   ],
   "source": [
    "total = 0\n",
    "for pair in data:\n",
    "    first_range = range(int(pair[0][0]), int(pair[0][1]) + 1)\n",
    "    second_range = range(int(pair[1][0]), int(pair[1][1]) + 1)\n",
    "\n",
    "    #check if the ranges overlap\n",
    "    if len(set(first_range) & set(second_range)) == min(len(first_range), len(second_range)):\n",
    "        total += 1\n",
    "\n",
    "total"
   ]
  },
  {
   "cell_type": "code",
   "execution_count": null,
   "metadata": {},
   "outputs": [],
   "source": [
    "total = 0\n",
    "for pair in data:\n",
    "    first_range = range(int(pair[0][0]), int(pair[0][1]) + 1)\n",
    "    second_range = range(int(pair[1][0]), int(pair[1][1]) + 1)\n",
    "\n",
    "    #check if the ranges overlap\n",
    "    if len(set(first_range) & set(second_range)) > 0:\n",
    "        total += 1\n",
    "\n",
    "total"
   ]
  }
 ],
 "metadata": {
  "kernelspec": {
   "display_name": "Python 3.11.0 64-bit",
   "language": "python",
   "name": "python3"
  },
  "language_info": {
   "codemirror_mode": {
    "name": "ipython",
    "version": 3
   },
   "file_extension": ".py",
   "mimetype": "text/x-python",
   "name": "python",
   "nbconvert_exporter": "python",
   "pygments_lexer": "ipython3",
   "version": "3.11.0"
  },
  "orig_nbformat": 4,
  "vscode": {
   "interpreter": {
    "hash": "5c7b89af1651d0b8571dde13640ecdccf7d5a6204171d6ab33e7c296e100e08a"
   }
  }
 },
 "nbformat": 4,
 "nbformat_minor": 2
}
