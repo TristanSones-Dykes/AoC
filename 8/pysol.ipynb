{
 "cells": [
  {
   "cell_type": "code",
   "execution_count": 98,
   "metadata": {},
   "outputs": [
    {
     "name": "stdout",
     "output_type": "stream",
     "text": [
      "1818\n"
     ]
    }
   ],
   "source": [
    "import numpy as np\n",
    "\n",
    "with open(\"input.txt\" , \"r\") as f:\n",
    "    lines = [list(line) for line in f.read().splitlines()]\n",
    "\n",
    "lines = np.array(lines, dtype=int)\n",
    "master_sheet = np.zeros((len(lines), len(lines[0])), dtype=int)\n",
    "\n",
    "for i in range(len(lines)):\n",
    "    largest_tree = -1\n",
    "    for j in range(len(lines[0])):\n",
    "        if lines[i][j] > largest_tree:\n",
    "            largest_tree = lines[i][j]\n",
    "            master_sheet[i][j] = 1\n",
    "\n",
    "for i in range(len(lines)):\n",
    "    largest_tree = -1\n",
    "    for j in range(len(lines[0]) - 1, -1, -1):\n",
    "        if lines[i][j] > largest_tree:\n",
    "            largest_tree = lines[i][j]\n",
    "            master_sheet[i][j] = 1\n",
    "\n",
    "for i in range(len(lines)):\n",
    "    largest_tree = -1\n",
    "    for j in range(len(lines[0])):\n",
    "        if lines[j][i] > largest_tree:\n",
    "            largest_tree = lines[j][i]\n",
    "            master_sheet[j][i] = 1\n",
    "\n",
    "for i in range(len(lines)):\n",
    "    largest_tree = -1\n",
    "    for j in range(len(lines[0]) - 1, -1, -1):\n",
    "        if lines[j][i] > largest_tree:\n",
    "            largest_tree = lines[j][i]\n",
    "            master_sheet[j][i] = 1\n",
    "\n",
    "print(sum(sum(master_sheet)))\n"
   ]
  },
  {
   "cell_type": "code",
   "execution_count": null,
   "metadata": {},
   "outputs": [],
   "source": [
    "highest_score = 0\n",
    "\n",
    "for i in range(len(lines)):\n",
    "    for j in range(len(lines[0])):\n",
    "        row = lines[i]\n",
    "        col = lines[:, j]\n",
    "\n",
    "        "
   ]
  }
 ],
 "metadata": {
  "kernelspec": {
   "display_name": "Python 3.10.4 ('py3.10')",
   "language": "python",
   "name": "python3"
  },
  "language_info": {
   "codemirror_mode": {
    "name": "ipython",
    "version": 3
   },
   "file_extension": ".py",
   "mimetype": "text/x-python",
   "name": "python",
   "nbconvert_exporter": "python",
   "pygments_lexer": "ipython3",
   "version": "3.10.4"
  },
  "orig_nbformat": 4,
  "vscode": {
   "interpreter": {
    "hash": "2c0936b707215ffb9781bb22f9570e759480a5f485195eb6d50b89df1c66fcdc"
   }
  }
 },
 "nbformat": 4,
 "nbformat_minor": 2
}
