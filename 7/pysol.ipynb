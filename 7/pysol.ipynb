{
 "cells": [
  {
   "cell_type": "code",
   "execution_count": 159,
   "metadata": {},
   "outputs": [
    {
     "data": {
      "text/plain": [
       "1915606"
      ]
     },
     "execution_count": 159,
     "metadata": {},
     "output_type": "execute_result"
    }
   ],
   "source": [
    "from typing import List\n",
    "from functools import cache\n",
    "\n",
    "class File:\n",
    "    name: str\n",
    "    size: int\n",
    "\n",
    "    def __init__(self, name: str, size: int):\n",
    "        self.name = name\n",
    "        self.size = size\n",
    "\n",
    "class Directory:\n",
    "    name: str\n",
    "    files: List[File]\n",
    "    subdirs: List[\"Directory\"]\n",
    "    parent: \"Directory\"\n",
    "\n",
    "    def __init__(self, name: str, parent: \"Directory\"):\n",
    "        self.name = name\n",
    "        self.files = []\n",
    "        self.subdirs = []\n",
    "        self.parent = parent\n",
    "\n",
    "with open(\"input.txt\", \"r\") as f:\n",
    "    data = f.read().splitlines()\n",
    "\n",
    "def parse(file) -> Directory:\n",
    "    state = \"commands\"\n",
    "    index = 1\n",
    "    root = Directory(\"/\", None)\n",
    "    currDir = root\n",
    "\n",
    "    while index < len(file):\n",
    "        line = file[index]\n",
    "        if state == \"commands\":\n",
    "            match line.strip().split(\" \"):\n",
    "                case [\"$\", \"cd\", dir]:\n",
    "                    index -= 1\n",
    "                    state = \"cd\"\n",
    "\n",
    "                case [\"$\", \"ls\"]:\n",
    "                    state = \"ls\"\n",
    "        \n",
    "        elif state == \"cd\":\n",
    "            match line.strip().split(\" \"):\n",
    "                case [\"$\", \"cd\", \"..\"]:\n",
    "                    currDir = currDir.parent\n",
    "\n",
    "                case [\"$\", \"cd\", dir]:\n",
    "                    for directory in currDir.subdirs:\n",
    "                        if directory.name == dir:\n",
    "                            currDir = directory\n",
    "                            break\n",
    "            state = \"commands\"\n",
    "                    \n",
    "        elif state == \"ls\":\n",
    "            match line.strip().split(\" \"):\n",
    "                case [\"dir\", name]:\n",
    "                    if name not in [directory.name for directory in currDir.subdirs]:\n",
    "                        currDir.subdirs.append(Directory(name, currDir))\n",
    "\n",
    "                case [value, name]:\n",
    "                    if name not in [file.name for file in currDir.files]:\n",
    "                        currDir.files.append(File(name, int(value)))\n",
    "                \n",
    "                case _:\n",
    "                    state = \"commands\"\n",
    "                    index -= 1\n",
    "        index += 1\n",
    "\n",
    "    return root\n",
    "\n",
    "root = parse(data)\n",
    "\n",
    "# function that returns the total size of all directories and files in a directory\n",
    "@cache\n",
    "def size(dir: Directory) -> int:\n",
    "    total = sum(file.size for file in dir.files)\n",
    "    for subdir in dir.subdirs:\n",
    "        total += size(subdir)\n",
    "\n",
    "    return total\n",
    "\n",
    "# function that traverses the directory tree and returns a list of the sizes of each directory\n",
    "def traverse(dir: Directory) -> List[int]:\n",
    "    sizes = [size(dir)]\n",
    "    for subdir in dir.subdirs:\n",
    "        sizes += traverse(subdir)\n",
    "\n",
    "    return sizes\n",
    "\n",
    "result = [size for size in traverse(root) if size <= 100000]\n",
    "sum(result)"
   ]
  },
  {
   "cell_type": "code",
   "execution_count": 162,
   "metadata": {},
   "outputs": [
    {
     "data": {
      "text/plain": [
       "5025657"
      ]
     },
     "execution_count": 162,
     "metadata": {},
     "output_type": "execute_result"
    }
   ],
   "source": [
    "list = traverse(root)\n",
    "sorted_list = sorted(list, reverse=True)\n",
    "\n",
    "current_space = 70000000 - sorted_list[0]\n",
    "[i for i in sorted_list if current_space + i >= 30000000][-1]"
   ]
  },
  {
   "cell_type": "code",
   "execution_count": null,
   "metadata": {},
   "outputs": [],
   "source": []
  }
 ],
 "metadata": {
  "kernelspec": {
   "display_name": "Python 3.11.0 64-bit",
   "language": "python",
   "name": "python3"
  },
  "language_info": {
   "codemirror_mode": {
    "name": "ipython",
    "version": 3
   },
   "file_extension": ".py",
   "mimetype": "text/x-python",
   "name": "python",
   "nbconvert_exporter": "python",
   "pygments_lexer": "ipython3",
   "version": "3.11.0"
  },
  "orig_nbformat": 4,
  "vscode": {
   "interpreter": {
    "hash": "5c7b89af1651d0b8571dde13640ecdccf7d5a6204171d6ab33e7c296e100e08a"
   }
  }
 },
 "nbformat": 4,
 "nbformat_minor": 2
}
