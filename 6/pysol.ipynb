{
 "cells": [
  {
   "cell_type": "code",
   "execution_count": 9,
   "metadata": {},
   "outputs": [
    {
     "name": "stdout",
     "output_type": "stream",
     "text": [
      "cbls\n",
      "1929\n"
     ]
    }
   ],
   "source": [
    "with open(\"input.txt\", \"r\") as f:\n",
    "    stream = f.read().strip()\n",
    "\n",
    "from collections import Counter\n",
    "\n",
    "for i in range(len(stream) - 4):\n",
    "    snippet = stream[i:i+4]\n",
    "    if Counter(snippet).most_common(1)[0][1] == 1:\n",
    "        print(snippet)\n",
    "        print(i + 4)\n",
    "        break"
   ]
  },
  {
   "cell_type": "code",
   "execution_count": 10,
   "metadata": {},
   "outputs": [
    {
     "name": "stdout",
     "output_type": "stream",
     "text": [
      "qdnfscgvhztjwl\n",
      "3298\n"
     ]
    }
   ],
   "source": [
    "for i in range(len(stream) - 14):\n",
    "    snippet = stream[i:i+14]\n",
    "    if Counter(snippet).most_common(1)[0][1] == 1:\n",
    "        print(snippet)\n",
    "        print(i + 14)\n",
    "        break"
   ]
  },
  {
   "cell_type": "code",
   "execution_count": null,
   "metadata": {},
   "outputs": [],
   "source": []
  }
 ],
 "metadata": {
  "kernelspec": {
   "display_name": "Python 3.11.0 64-bit",
   "language": "python",
   "name": "python3"
  },
  "language_info": {
   "codemirror_mode": {
    "name": "ipython",
    "version": 3
   },
   "file_extension": ".py",
   "mimetype": "text/x-python",
   "name": "python",
   "nbconvert_exporter": "python",
   "pygments_lexer": "ipython3",
   "version": "3.11.0"
  },
  "orig_nbformat": 4,
  "vscode": {
   "interpreter": {
    "hash": "5c7b89af1651d0b8571dde13640ecdccf7d5a6204171d6ab33e7c296e100e08a"
   }
  }
 },
 "nbformat": 4,
 "nbformat_minor": 2
}
