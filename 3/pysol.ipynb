{
 "cells": [
  {
   "cell_type": "code",
   "execution_count": 29,
   "metadata": {},
   "outputs": [
    {
     "data": {
      "text/plain": [
       "8252"
      ]
     },
     "execution_count": 29,
     "metadata": {},
     "output_type": "execute_result"
    }
   ],
   "source": [
    "with open(\"input.txt\", \"r\") as f:\n",
    "    data = f.read().splitlines()\n",
    "\n",
    "total = 0\n",
    "for line in data:\n",
    "    left = line[:len(line) // 2]\n",
    "    right = line[len(line) // 2:]\n",
    "    \n",
    "    for i in left:\n",
    "        if i in right:\n",
    "            # a-z -> 1-26, A-Z -> 27-52\n",
    "            total += ord(i) - 96 if i.islower() else ord(i) - 38\n",
    "            break\n",
    "\n",
    "total\n"
   ]
  },
  {
   "cell_type": "code",
   "execution_count": 30,
   "metadata": {},
   "outputs": [
    {
     "data": {
      "text/plain": [
       "2828"
      ]
     },
     "execution_count": 30,
     "metadata": {},
     "output_type": "execute_result"
    }
   ],
   "source": [
    "groups = [[data[i], data[i+1], data[i+2]] for i in range(0, len(data), 3)]\n",
    "groups\n",
    "\n",
    "total = 0\n",
    "for group in groups:\n",
    "    for i in group[0]:\n",
    "        if i in group[1] and i in group[2]:\n",
    "            total += ord(i) - 96 if i.islower() else ord(i) - 38\n",
    "            break\n",
    "    \n",
    "total"
   ]
  },
  {
   "cell_type": "code",
   "execution_count": null,
   "metadata": {},
   "outputs": [],
   "source": []
  }
 ],
 "metadata": {
  "kernelspec": {
   "display_name": "Python 3.11.0 64-bit",
   "language": "python",
   "name": "python3"
  },
  "language_info": {
   "codemirror_mode": {
    "name": "ipython",
    "version": 3
   },
   "file_extension": ".py",
   "mimetype": "text/x-python",
   "name": "python",
   "nbconvert_exporter": "python",
   "pygments_lexer": "ipython3",
   "version": "3.11.0"
  },
  "orig_nbformat": 4,
  "vscode": {
   "interpreter": {
    "hash": "5c7b89af1651d0b8571dde13640ecdccf7d5a6204171d6ab33e7c296e100e08a"
   }
  }
 },
 "nbformat": 4,
 "nbformat_minor": 2
}
